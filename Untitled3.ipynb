{
 "cells": [
  {
   "cell_type": "code",
   "execution_count": 1,
   "id": "f7ca6d58-5b3a-4b9a-8fc1-c2233dcb9f95",
   "metadata": {},
   "outputs": [],
   "source": [
    "import pandas as pd\n",
    "import numpy as np\n",
    "import seaborn as sl\n",
    "import matplotlib.pyplot as plt"
   ]
  },
  {
   "cell_type": "code",
   "execution_count": 2,
   "id": "46753d7a-9884-451d-b498-261d58ee860d",
   "metadata": {},
   "outputs": [
    {
     "data": {
      "text/html": [
       "<div>\n",
       "<style scoped>\n",
       "    .dataframe tbody tr th:only-of-type {\n",
       "        vertical-align: middle;\n",
       "    }\n",
       "\n",
       "    .dataframe tbody tr th {\n",
       "        vertical-align: top;\n",
       "    }\n",
       "\n",
       "    .dataframe thead th {\n",
       "        text-align: right;\n",
       "    }\n",
       "</style>\n",
       "<table border=\"1\" class=\"dataframe\">\n",
       "  <thead>\n",
       "    <tr style=\"text-align: right;\">\n",
       "      <th></th>\n",
       "      <th>EmpId</th>\n",
       "      <th>EmpName</th>\n",
       "      <th>joinYear</th>\n",
       "      <th>B_Salary</th>\n",
       "      <th>TA</th>\n",
       "      <th>DA</th>\n",
       "      <th>Total</th>\n",
       "    </tr>\n",
       "  </thead>\n",
       "  <tbody>\n",
       "    <tr>\n",
       "      <th>0</th>\n",
       "      <td>12345</td>\n",
       "      <td>Deepak</td>\n",
       "      <td>2000</td>\n",
       "      <td>20020.0</td>\n",
       "      <td>1001.00</td>\n",
       "      <td>24.00</td>\n",
       "      <td>21045.00</td>\n",
       "    </tr>\n",
       "    <tr>\n",
       "      <th>1</th>\n",
       "      <td>12346</td>\n",
       "      <td>Raju</td>\n",
       "      <td>2023</td>\n",
       "      <td>20030.0</td>\n",
       "      <td>1001.50</td>\n",
       "      <td>60.00</td>\n",
       "      <td>21091.50</td>\n",
       "    </tr>\n",
       "    <tr>\n",
       "      <th>2</th>\n",
       "      <td>12347</td>\n",
       "      <td>Mohan</td>\n",
       "      <td>2022</td>\n",
       "      <td>21000.0</td>\n",
       "      <td>1050.00</td>\n",
       "      <td>65.00</td>\n",
       "      <td>22115.00</td>\n",
       "    </tr>\n",
       "    <tr>\n",
       "      <th>3</th>\n",
       "      <td>12348</td>\n",
       "      <td>Shyam</td>\n",
       "      <td>2008</td>\n",
       "      <td>22000.0</td>\n",
       "      <td>1100.00</td>\n",
       "      <td>60.00</td>\n",
       "      <td>23160.00</td>\n",
       "    </tr>\n",
       "    <tr>\n",
       "      <th>4</th>\n",
       "      <td>12349</td>\n",
       "      <td>Dinesh</td>\n",
       "      <td>2006</td>\n",
       "      <td>22490.0</td>\n",
       "      <td>1124.50</td>\n",
       "      <td>60.69</td>\n",
       "      <td>23675.19</td>\n",
       "    </tr>\n",
       "    <tr>\n",
       "      <th>...</th>\n",
       "      <td>...</td>\n",
       "      <td>...</td>\n",
       "      <td>...</td>\n",
       "      <td>...</td>\n",
       "      <td>...</td>\n",
       "      <td>...</td>\n",
       "      <td>...</td>\n",
       "    </tr>\n",
       "    <tr>\n",
       "      <th>94</th>\n",
       "      <td>12439</td>\n",
       "      <td>Shyam</td>\n",
       "      <td>2016</td>\n",
       "      <td>84680.0</td>\n",
       "      <td>4234.00</td>\n",
       "      <td>60.48</td>\n",
       "      <td>88974.48</td>\n",
       "    </tr>\n",
       "    <tr>\n",
       "      <th>95</th>\n",
       "      <td>12440</td>\n",
       "      <td>Dinesh</td>\n",
       "      <td>2016</td>\n",
       "      <td>85371.0</td>\n",
       "      <td>4268.55</td>\n",
       "      <td>60.48</td>\n",
       "      <td>89700.03</td>\n",
       "    </tr>\n",
       "    <tr>\n",
       "      <th>96</th>\n",
       "      <td>12441</td>\n",
       "      <td>Rahul</td>\n",
       "      <td>2016</td>\n",
       "      <td>86062.0</td>\n",
       "      <td>4303.10</td>\n",
       "      <td>60.48</td>\n",
       "      <td>90425.58</td>\n",
       "    </tr>\n",
       "    <tr>\n",
       "      <th>97</th>\n",
       "      <td>12442</td>\n",
       "      <td>Mohit</td>\n",
       "      <td>2016</td>\n",
       "      <td>NaN</td>\n",
       "      <td>NaN</td>\n",
       "      <td>NaN</td>\n",
       "      <td>NaN</td>\n",
       "    </tr>\n",
       "    <tr>\n",
       "      <th>98</th>\n",
       "      <td>12443</td>\n",
       "      <td>Deepak</td>\n",
       "      <td>2016</td>\n",
       "      <td>87444.0</td>\n",
       "      <td>4372.20</td>\n",
       "      <td>60.48</td>\n",
       "      <td>91876.68</td>\n",
       "    </tr>\n",
       "  </tbody>\n",
       "</table>\n",
       "<p>99 rows × 7 columns</p>\n",
       "</div>"
      ],
      "text/plain": [
       "    EmpId EmpName  joinYear  B_Salary       TA     DA     Total\n",
       "0   12345  Deepak      2000   20020.0  1001.00  24.00  21045.00\n",
       "1   12346    Raju      2023   20030.0  1001.50  60.00  21091.50\n",
       "2   12347   Mohan      2022   21000.0  1050.00  65.00  22115.00\n",
       "3   12348   Shyam      2008   22000.0  1100.00  60.00  23160.00\n",
       "4   12349  Dinesh      2006   22490.0  1124.50  60.69  23675.19\n",
       "..    ...     ...       ...       ...      ...    ...       ...\n",
       "94  12439   Shyam      2016   84680.0  4234.00  60.48  88974.48\n",
       "95  12440  Dinesh      2016   85371.0  4268.55  60.48  89700.03\n",
       "96  12441   Rahul      2016   86062.0  4303.10  60.48  90425.58\n",
       "97  12442   Mohit      2016       NaN      NaN    NaN       NaN\n",
       "98  12443  Deepak      2016   87444.0  4372.20  60.48  91876.68\n",
       "\n",
       "[99 rows x 7 columns]"
      ]
     },
     "execution_count": 2,
     "metadata": {},
     "output_type": "execute_result"
    }
   ],
   "source": [
    "data=pd.read_csv(\"data.csv\")\n",
    "data"
   ]
  },
  {
   "cell_type": "code",
   "execution_count": 3,
   "id": "ed7c636f-6b52-4c61-b6a1-817a6b83162e",
   "metadata": {},
   "outputs": [
    {
     "data": {
      "text/plain": [
       "EmpId        0\n",
       "EmpName      0\n",
       "joinYear     0\n",
       "B_Salary    10\n",
       "TA          10\n",
       "DA           2\n",
       "Total        5\n",
       "dtype: int64"
      ]
     },
     "execution_count": 3,
     "metadata": {},
     "output_type": "execute_result"
    }
   ],
   "source": [
    "data.isnull().sum()"
   ]
  },
  {
   "cell_type": "code",
   "execution_count": 4,
   "id": "509d566d-f484-44a0-b697-4a003363d225",
   "metadata": {},
   "outputs": [
    {
     "data": {
      "text/plain": [
       "np.int64(27)"
      ]
     },
     "execution_count": 4,
     "metadata": {},
     "output_type": "execute_result"
    }
   ],
   "source": [
    "data.isnull().sum().sum()"
   ]
  },
  {
   "cell_type": "code",
   "execution_count": 5,
   "id": "5c0ae911-f036-45d9-ae25-30998a9469e1",
   "metadata": {},
   "outputs": [
    {
     "data": {
      "image/png": "[encoded data removed]",
      "text/plain": [
       "<Figure size 640x480 with 1 Axes>"
      ]
     },
     "metadata": {},
     "output_type": "display_data"
    }
   ],
   "source": [
    "sl.histplot(data.isnull())\n",
    "plt.show()"
   ]
  },
  {
   "cell_type": "code",
   "execution_count": 6,
   "id": "e41b6ca0-5d55-4a19-ba5c-b1548754a603",
   "metadata": {},
   "outputs": [
    {
     "data": {
      "text/plain": [
       "EmpId        0\n",
       "EmpName      0\n",
       "joinYear     0\n",
       "B_Salary    10\n",
       "TA          10\n",
       "DA           2\n",
       "Total        5\n",
       "dtype: int64"
      ]
     },
     "execution_count": 6,
     "metadata": {},
     "output_type": "execute_result"
    }
   ],
   "source": [
    "data.isnull().sum()"
   ]
  },
  {
   "cell_type": "code",
   "execution_count": 8,
   "id": "c3d4e3da-d31e-4c58-a7f2-f89957291716",
   "metadata": {},
   "outputs": [
    {
     "data": {
      "text/plain": [
       "(99, 7)"
      ]
     },
     "execution_count": 8,
     "metadata": {},
     "output_type": "execute_result"
    }
   ],
   "source": [
    "data.shape"
   ]
  },
  {
   "cell_type": "code",
   "execution_count": 13,
   "id": "b3be8234-cac6-4de5-af7c-aff0e90b4579",
   "metadata": {},
   "outputs": [],
   "source": [
    "data.drop(columns=[\"TA\"],inplace=True)"
   ]
  },
  {
   "cell_type": "code",
   "execution_count": 14,
   "id": "e4dbfd4c-be91-464c-a2a2-fe1121a75d49",
   "metadata": {},
   "outputs": [
    {
     "data": {
      "text/html": [
       "<div>\n",
       "<style scoped>\n",
       "    .dataframe tbody tr th:only-of-type {\n",
       "        vertical-align: middle;\n",
       "    }\n",
       "\n",
       "    .dataframe tbody tr th {\n",
       "        vertical-align: top;\n",
       "    }\n",
       "\n",
       "    .dataframe thead th {\n",
       "        text-align: right;\n",
       "    }\n",
       "</style>\n",
       "<table border=\"1\" class=\"dataframe\">\n",
       "  <thead>\n",
       "    <tr style=\"text-align: right;\">\n",
       "      <th></th>\n",
       "      <th>EmpId</th>\n",
       "      <th>EmpName</th>\n",
       "      <th>joinYear</th>\n",
       "      <th>B_Salary</th>\n",
       "      <th>DA</th>\n",
       "      <th>Total</th>\n",
       "    </tr>\n",
       "  </thead>\n",
       "  <tbody>\n",
       "    <tr>\n",
       "      <th>0</th>\n",
       "      <td>12345</td>\n",
       "      <td>Deepak</td>\n",
       "      <td>2000</td>\n",
       "      <td>20020.0</td>\n",
       "      <td>24.00</td>\n",
       "      <td>21045.00</td>\n",
       "    </tr>\n",
       "    <tr>\n",
       "      <th>1</th>\n",
       "      <td>12346</td>\n",
       "      <td>Raju</td>\n",
       "      <td>2023</td>\n",
       "      <td>20030.0</td>\n",
       "      <td>60.00</td>\n",
       "      <td>21091.50</td>\n",
       "    </tr>\n",
       "    <tr>\n",
       "      <th>2</th>\n",
       "      <td>12347</td>\n",
       "      <td>Mohan</td>\n",
       "      <td>2022</td>\n",
       "      <td>21000.0</td>\n",
       "      <td>65.00</td>\n",
       "      <td>22115.00</td>\n",
       "    </tr>\n",
       "    <tr>\n",
       "      <th>3</th>\n",
       "      <td>12348</td>\n",
       "      <td>Shyam</td>\n",
       "      <td>2008</td>\n",
       "      <td>22000.0</td>\n",
       "      <td>60.00</td>\n",
       "      <td>23160.00</td>\n",
       "    </tr>\n",
       "    <tr>\n",
       "      <th>4</th>\n",
       "      <td>12349</td>\n",
       "      <td>Dinesh</td>\n",
       "      <td>2006</td>\n",
       "      <td>22490.0</td>\n",
       "      <td>60.69</td>\n",
       "      <td>23675.19</td>\n",
       "    </tr>\n",
       "    <tr>\n",
       "      <th>...</th>\n",
       "      <td>...</td>\n",
       "      <td>...</td>\n",
       "      <td>...</td>\n",
       "      <td>...</td>\n",
       "      <td>...</td>\n",
       "      <td>...</td>\n",
       "    </tr>\n",
       "    <tr>\n",
       "      <th>94</th>\n",
       "      <td>12439</td>\n",
       "      <td>Shyam</td>\n",
       "      <td>2016</td>\n",
       "      <td>84680.0</td>\n",
       "      <td>60.48</td>\n",
       "      <td>88974.48</td>\n",
       "    </tr>\n",
       "    <tr>\n",
       "      <th>95</th>\n",
       "      <td>12440</td>\n",
       "      <td>Dinesh</td>\n",
       "      <td>2016</td>\n",
       "      <td>85371.0</td>\n",
       "      <td>60.48</td>\n",
       "      <td>89700.03</td>\n",
       "    </tr>\n",
       "    <tr>\n",
       "      <th>96</th>\n",
       "      <td>12441</td>\n",
       "      <td>Rahul</td>\n",
       "      <td>2016</td>\n",
       "      <td>86062.0</td>\n",
       "      <td>60.48</td>\n",
       "      <td>90425.58</td>\n",
       "    </tr>\n",
       "    <tr>\n",
       "      <th>97</th>\n",
       "      <td>12442</td>\n",
       "      <td>Mohit</td>\n",
       "      <td>2016</td>\n",
       "      <td>NaN</td>\n",
       "      <td>NaN</td>\n",
       "      <td>NaN</td>\n",
       "    </tr>\n",
       "    <tr>\n",
       "      <th>98</th>\n",
       "      <td>12443</td>\n",
       "      <td>Deepak</td>\n",
       "      <td>2016</td>\n",
       "      <td>87444.0</td>\n",
       "      <td>60.48</td>\n",
       "      <td>91876.68</td>\n",
       "    </tr>\n",
       "  </tbody>\n",
       "</table>\n",
       "<p>99 rows × 6 columns</p>\n",
       "</div>"
      ],
      "text/plain": [
       "    EmpId EmpName  joinYear  B_Salary     DA     Total\n",
       "0   12345  Deepak      2000   20020.0  24.00  21045.00\n",
       "1   12346    Raju      2023   20030.0  60.00  21091.50\n",
       "2   12347   Mohan      2022   21000.0  65.00  22115.00\n",
       "3   12348   Shyam      2008   22000.0  60.00  23160.00\n",
       "4   12349  Dinesh      2006   22490.0  60.69  23675.19\n",
       "..    ...     ...       ...       ...    ...       ...\n",
       "94  12439   Shyam      2016   84680.0  60.48  88974.48\n",
       "95  12440  Dinesh      2016   85371.0  60.48  89700.03\n",
       "96  12441   Rahul      2016   86062.0  60.48  90425.58\n",
       "97  12442   Mohit      2016       NaN    NaN       NaN\n",
       "98  12443  Deepak      2016   87444.0  60.48  91876.68\n",
       "\n",
       "[99 rows x 6 columns]"
      ]
     },
     "execution_count": 14,
     "metadata": {},
     "output_type": "execute_result"
    }
   ],
   "source": [
    "data"
   ]
  },
  {
   "cell_type": "code",
   "execution_count": 15,
   "id": "2937ade0-0cb5-4591-bec9-512cf73fe3c7",
   "metadata": {},
   "outputs": [
    {
     "data": {
      "text/plain": [
       "(99, 6)"
      ]
     },
     "execution_count": 15,
     "metadata": {},
     "output_type": "execute_result"
    }
   ],
   "source": [
    "data.shape"
   ]
  },
  {
   "cell_type": "code",
   "execution_count": 18,
   "id": "ea88685c-d456-40e2-a728-6e69a813db6f",
   "metadata": {},
   "outputs": [],
   "source": [
    "data.dropna(inplace=True)"
   ]
  },
  {
   "cell_type": "code",
   "execution_count": 19,
   "id": "0134c556-e93c-4ed9-aed1-1b66319096d7",
   "metadata": {},
   "outputs": [
    {
     "data": {
      "text/plain": [
       "(89, 6)"
      ]
     },
     "execution_count": 19,
     "metadata": {},
     "output_type": "execute_result"
    }
   ],
   "source": [
    "data.shape"
   ]
  },
  {
   "cell_type": "code",
   "execution_count": 20,
   "id": "7292f14e-cfdd-4970-a262-6af078a6116e",
   "metadata": {},
   "outputs": [
    {
     "data": {
      "text/html": [
       "<div>\n",
       "<style scoped>\n",
       "    .dataframe tbody tr th:only-of-type {\n",
       "        vertical-align: middle;\n",
       "    }\n",
       "\n",
       "    .dataframe tbody tr th {\n",
       "        vertical-align: top;\n",
       "    }\n",
       "\n",
       "    .dataframe thead th {\n",
       "        text-align: right;\n",
       "    }\n",
       "</style>\n",
       "<table border=\"1\" class=\"dataframe\">\n",
       "  <thead>\n",
       "    <tr style=\"text-align: right;\">\n",
       "      <th></th>\n",
       "      <th>EmpId</th>\n",
       "      <th>EmpName</th>\n",
       "      <th>joinYear</th>\n",
       "      <th>B_Salary</th>\n",
       "      <th>DA</th>\n",
       "      <th>Total</th>\n",
       "    </tr>\n",
       "  </thead>\n",
       "  <tbody>\n",
       "    <tr>\n",
       "      <th>0</th>\n",
       "      <td>12345</td>\n",
       "      <td>Deepak</td>\n",
       "      <td>2000</td>\n",
       "      <td>20020.0</td>\n",
       "      <td>24.00</td>\n",
       "      <td>21045.00</td>\n",
       "    </tr>\n",
       "    <tr>\n",
       "      <th>1</th>\n",
       "      <td>12346</td>\n",
       "      <td>Raju</td>\n",
       "      <td>2023</td>\n",
       "      <td>20030.0</td>\n",
       "      <td>60.00</td>\n",
       "      <td>21091.50</td>\n",
       "    </tr>\n",
       "    <tr>\n",
       "      <th>2</th>\n",
       "      <td>12347</td>\n",
       "      <td>Mohan</td>\n",
       "      <td>2022</td>\n",
       "      <td>21000.0</td>\n",
       "      <td>65.00</td>\n",
       "      <td>22115.00</td>\n",
       "    </tr>\n",
       "    <tr>\n",
       "      <th>3</th>\n",
       "      <td>12348</td>\n",
       "      <td>Shyam</td>\n",
       "      <td>2008</td>\n",
       "      <td>22000.0</td>\n",
       "      <td>60.00</td>\n",
       "      <td>23160.00</td>\n",
       "    </tr>\n",
       "    <tr>\n",
       "      <th>4</th>\n",
       "      <td>12349</td>\n",
       "      <td>Dinesh</td>\n",
       "      <td>2006</td>\n",
       "      <td>22490.0</td>\n",
       "      <td>60.69</td>\n",
       "      <td>23675.19</td>\n",
       "    </tr>\n",
       "    <tr>\n",
       "      <th>...</th>\n",
       "      <td>...</td>\n",
       "      <td>...</td>\n",
       "      <td>...</td>\n",
       "      <td>...</td>\n",
       "      <td>...</td>\n",
       "      <td>...</td>\n",
       "    </tr>\n",
       "    <tr>\n",
       "      <th>93</th>\n",
       "      <td>12438</td>\n",
       "      <td>Mohan</td>\n",
       "      <td>2016</td>\n",
       "      <td>83989.0</td>\n",
       "      <td>60.48</td>\n",
       "      <td>88248.93</td>\n",
       "    </tr>\n",
       "    <tr>\n",
       "      <th>94</th>\n",
       "      <td>12439</td>\n",
       "      <td>Shyam</td>\n",
       "      <td>2016</td>\n",
       "      <td>84680.0</td>\n",
       "      <td>60.48</td>\n",
       "      <td>88974.48</td>\n",
       "    </tr>\n",
       "    <tr>\n",
       "      <th>95</th>\n",
       "      <td>12440</td>\n",
       "      <td>Dinesh</td>\n",
       "      <td>2016</td>\n",
       "      <td>85371.0</td>\n",
       "      <td>60.48</td>\n",
       "      <td>89700.03</td>\n",
       "    </tr>\n",
       "    <tr>\n",
       "      <th>96</th>\n",
       "      <td>12441</td>\n",
       "      <td>Rahul</td>\n",
       "      <td>2016</td>\n",
       "      <td>86062.0</td>\n",
       "      <td>60.48</td>\n",
       "      <td>90425.58</td>\n",
       "    </tr>\n",
       "    <tr>\n",
       "      <th>98</th>\n",
       "      <td>12443</td>\n",
       "      <td>Deepak</td>\n",
       "      <td>2016</td>\n",
       "      <td>87444.0</td>\n",
       "      <td>60.48</td>\n",
       "      <td>91876.68</td>\n",
       "    </tr>\n",
       "  </tbody>\n",
       "</table>\n",
       "<p>89 rows × 6 columns</p>\n",
       "</div>"
      ],
      "text/plain": [
       "    EmpId EmpName  joinYear  B_Salary     DA     Total\n",
       "0   12345  Deepak      2000   20020.0  24.00  21045.00\n",
       "1   12346    Raju      2023   20030.0  60.00  21091.50\n",
       "2   12347   Mohan      2022   21000.0  65.00  22115.00\n",
       "3   12348   Shyam      2008   22000.0  60.00  23160.00\n",
       "4   12349  Dinesh      2006   22490.0  60.69  23675.19\n",
       "..    ...     ...       ...       ...    ...       ...\n",
       "93  12438   Mohan      2016   83989.0  60.48  88248.93\n",
       "94  12439   Shyam      2016   84680.0  60.48  88974.48\n",
       "95  12440  Dinesh      2016   85371.0  60.48  89700.03\n",
       "96  12441   Rahul      2016   86062.0  60.48  90425.58\n",
       "98  12443  Deepak      2016   87444.0  60.48  91876.68\n",
       "\n",
       "[89 rows x 6 columns]"
      ]
     },
     "execution_count": 20,
     "metadata": {},
     "output_type": "execute_result"
    }
   ],
   "source": [
    "data"
   ]
  },
  {
   "cell_type": "code",
   "execution_count": null,
   "id": "4d8989e5-dfed-429e-9039-1da25c3c58b5",
   "metadata": {},
   "outputs": [],
   "source": []
  }
 ],
 "metadata": {
  "kernelspec": {
   "display_name": "Python 3 (ipykernel)",
   "language": "python",
   "name": "python3"
  },
  "language_info": {
   "codemirror_mode": {
    "name": "ipython",
    "version": 3
   },
   "file_extension": ".py",
   "mimetype": "text/x-python",
   "name": "python",
   "nbconvert_exporter": "python",
   "pygments_lexer": "ipython3",
   "version": "3.12.4"
  }
 },
 "nbformat": 4,
 "nbformat_minor": 5
}
